{
 "cells": [
  {
   "cell_type": "code",
   "execution_count": null,
   "id": "bd691e79",
   "metadata": {},
   "outputs": [],
   "source": [
    "print(\"hello Julia\")"
   ]
  },
  {
   "cell_type": "code",
   "execution_count": null,
   "id": "e5836b6a",
   "metadata": {},
   "outputs": [],
   "source": [
    "import Pkg\n",
    "Pkg.add(\"ZMQ\")\n",
    "Pkg.add(\"JSON\")\n",
    "Pkg.add(\"JSON3\")"
   ]
  },
  {
   "cell_type": "code",
   "execution_count": null,
   "id": "f133fe5e",
   "metadata": {},
   "outputs": [],
   "source": [
    "# the core "
   ]
  },
  {
   "cell_type": "code",
   "execution_count": null,
   "id": "7e77485d",
   "metadata": {},
   "outputs": [],
   "source": [
    "using ZMQ\n",
    "using JSON\n",
    "using JSON3\n",
    "SCALAR     = \"SCALAR\"\n",
    "TIMESERIES = \"TIMESERIES\"\n",
    "context = Context(1)\n",
    "socket_conn = Socket(context, PAIR)"
   ]
  },
  {
   "cell_type": "code",
   "execution_count": null,
   "id": "cb3da056",
   "metadata": {},
   "outputs": [],
   "source": [
    "function SendMessage(operation, result_type, host_with_port_number, socket_conn)\n",
    "    ZMQ.connect(socket_conn, host_with_port_number)\n",
    "    message = result_type * \"|-|\" * operation\n",
    "    #print(message)\n",
    "    ZMQ.send(socket_conn, message)\n",
    "end"
   ]
  },
  {
   "cell_type": "code",
   "execution_count": null,
   "id": "c3b03132",
   "metadata": {},
   "outputs": [],
   "source": [
    "function RecieveMessage(socket_conn)\n",
    "    msg = ZMQ.recv(socket_conn)\n",
    "    res =  String(UInt8.(msg))\n",
    "    JSON3.read(res)[\"Output\"]\n",
    "    #JSON3.read(res)\n",
    "end"
   ]
  },
  {
   "cell_type": "code",
   "execution_count": null,
   "id": "14c09580",
   "metadata": {},
   "outputs": [],
   "source": [
    "context = Context(1)\n",
    "socket_conn = Socket(context, PAIR)\n",
    "host_with_port_number = \"tcp://127.0.0.1:9003\""
   ]
  },
  {
   "cell_type": "code",
   "execution_count": null,
   "id": "f8654b20",
   "metadata": {},
   "outputs": [],
   "source": [
    "operation = \"19901+20+30+1000+2000*99\"\n",
    "#operation = \"Sin[Pi/2]\"\n",
    "SendMessage(operation, SCALAR, host_with_port_number, socket_conn)\n",
    "RecieveMessage(socket_conn)"
   ]
  },
  {
   "cell_type": "code",
   "execution_count": null,
   "id": "996155da",
   "metadata": {},
   "outputs": [],
   "source": [
    "operation = \"WeatherData[\\\"Bangalore\\\", \\\"Temperature\\\"]\"\n",
    "#operation = \"WeatherData[\\\"Bangalore\\\", \\\"Temperature\\\", {DateObject[\\\"09-Jan-2022\\\"],Today}]\"\n",
    "SendMessage(operation, TIMESERIES, host_with_port_number, socket_conn)\n",
    "RecieveMessage(socket_conn)"
   ]
  },
  {
   "cell_type": "code",
   "execution_count": null,
   "id": "dc3bdf83",
   "metadata": {},
   "outputs": [],
   "source": []
  },
  {
   "cell_type": "code",
   "execution_count": null,
   "id": "4548e3e9",
   "metadata": {},
   "outputs": [],
   "source": []
  },
  {
   "cell_type": "code",
   "execution_count": null,
   "id": "c096e563",
   "metadata": {},
   "outputs": [],
   "source": [
    "host_with_port_number = \"tcp://127.0.0.1:9000\"\n",
    "operation = \"Total[{10,200,300}]\"\n",
    "#operation = \"WeatherData[\\\"Bangalore\\\", \\\"Temperature\\\"]\""
   ]
  },
  {
   "cell_type": "code",
   "execution_count": null,
   "id": "9c2a261b",
   "metadata": {},
   "outputs": [],
   "source": []
  },
  {
   "cell_type": "code",
   "execution_count": null,
   "id": "5e9f4361",
   "metadata": {},
   "outputs": [],
   "source": [
    "host_with_port_number = \"tcp://127.0.0.1:9007\"\n",
    "operation = \"WeatherData[\\\"Bangalore\\\", \\\"Temperature\\\", {DateObject[\\\"09-Jan-2022\\\"],Today}]\"\n",
    "context = Context(1)\n",
    "socket_conn = Socket(context, PAIR)\n",
    "SendMessage(operation, TIMESERIES, host_with_port_number, socket_conn)\n",
    "RecieveMessage(socket_conn)"
   ]
  },
  {
   "cell_type": "code",
   "execution_count": null,
   "id": "0e9a2e6a",
   "metadata": {},
   "outputs": [],
   "source": [
    "using ZMQ\n",
    "using JSON\n",
    "using JSON3\n",
    "ctx = Context(1)\n",
    "s = Socket(ctx, PAIR)\n",
    "ZMQ.connect(s, \"tcp://127.0.0.1:9001\")\n",
    "\n",
    "ZMQ.send(s, \"Sin[Pi/2]\")"
   ]
  },
  {
   "cell_type": "code",
   "execution_count": null,
   "id": "fbbf581a",
   "metadata": {},
   "outputs": [],
   "source": [
    "msg = ZMQ.recv(s)\n",
    "res =  String(UInt8.(msg))\n",
    "JSON3.read(res)[\"Output\"]"
   ]
  },
  {
   "cell_type": "code",
   "execution_count": null,
   "id": "99b67b0b",
   "metadata": {},
   "outputs": [],
   "source": [
    "# using ZMQ\n",
    "# using JSON\n",
    "# using JSON3\n",
    "# ctx = Context(1)\n",
    "# s = Socket(ctx, PAIR)\n",
    "# ZMQ.connect(s, \"tcp://127.0.0.1:9000\")\n",
    "\n",
    "# ZMQ.send(s, \"100+200\")"
   ]
  },
  {
   "cell_type": "code",
   "execution_count": null,
   "id": "dca3e792",
   "metadata": {},
   "outputs": [],
   "source": []
  }
 ],
 "metadata": {
  "kernelspec": {
   "display_name": "Julia 1.7.1",
   "language": "julia",
   "name": "julia-1.7"
  },
  "language_info": {
   "file_extension": ".jl",
   "mimetype": "application/julia",
   "name": "julia",
   "version": "1.7.1"
  }
 },
 "nbformat": 4,
 "nbformat_minor": 5
}
